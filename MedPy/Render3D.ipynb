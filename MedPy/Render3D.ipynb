{
 "metadata": {
  "language_info": {
   "codemirror_mode": {
    "name": "ipython",
    "version": 3
   },
   "file_extension": ".py",
   "mimetype": "text/x-python",
   "name": "python",
   "nbconvert_exporter": "python",
   "pygments_lexer": "ipython3",
   "version": 3
  },
  "orig_nbformat": 2,
  "kernelspec": {
   "name": "python_defaultSpec_1596006264007",
   "display_name": "Python 3.7.1 64-bit"
  }
 },
 "nbformat": 4,
 "nbformat_minor": 2,
 "cells": [
  {
   "cell_type": "code",
   "execution_count": 1,
   "metadata": {},
   "outputs": [],
   "source": [
    "import numpy\n",
    "import pydicom as dicom\n",
    "import os\n",
    "\n",
    "import vtk\n",
    "from vtk.util import numpy_support\n",
    "from matplotlib import pyplot, cm"
   ]
  },
  {
   "cell_type": "code",
   "execution_count": 2,
   "metadata": {},
   "outputs": [],
   "source": [
    "PathDicom  = 'F:/University/S0000001119/S0000001119/'\n",
    "reader = vtk.vtkDICOMImageReader()\n",
    "reader.SetDirectoryName(PathDicom)\n",
    "reader.Update()"
   ]
  },
  {
   "cell_type": "code",
   "execution_count": 3,
   "metadata": {},
   "outputs": [],
   "source": [
    "# Load dimensions using `GetDataExtent`\n",
    "_extent = reader.GetDataExtent()\n",
    "ConstPixelDims = [_extent[1]-_extent[0]+1, _extent[3]-_extent[2]+1, _extent[5]-_extent[4]+1]\n",
    "\n",
    "# Load spacing values\n",
    "ConstPixelSpacing = reader.GetPixelSpacing()\n",
    "\n",
    "x = numpy.arange(0.0, (ConstPixelDims[0]+1)*ConstPixelSpacing[0], ConstPixelSpacing[0])\n",
    "y = numpy.arange(0.0, (ConstPixelDims[1]+1)*ConstPixelSpacing[1], ConstPixelSpacing[1])\n",
    "z = numpy.arange(0.0, (ConstPixelDims[2]+1)*ConstPixelSpacing[2], ConstPixelSpacing[2])\n"
   ]
  },
  {
   "cell_type": "code",
   "execution_count": 4,
   "metadata": {},
   "outputs": [],
   "source": [
    "# Get the 'vtkImageData' object from the reader\n",
    "imageData = reader.GetOutput()\n",
    "# Get the 'vtkPointData' object from the 'vtkImageData' object\n",
    "pointData = imageData.GetPointData()\n",
    "# Ensure that only one array exists within the 'vtkPointData' object\n",
    "assert (pointData.GetNumberOfArrays()==1)\n",
    "# Get the `vtkArray` (or whatever derived type) which is needed for the `numpy_support.vtk_to_numpy` function\n",
    "arrayData = pointData.GetArray(0)\n",
    "\n",
    "# Convert the `vtkArray` to a NumPy array\n",
    "ArrayDicom = numpy_support.vtk_to_numpy(arrayData)\n",
    "# Reshape the NumPy array to 3D using 'ConstPixelDims' as a 'shape'\n",
    "ArrayDicom = ArrayDicom.reshape(ConstPixelDims, order='F')\n"
   ]
  },
  {
   "cell_type": "code",
   "execution_count": null,
   "metadata": {},
   "outputs": [],
   "source": [
    "pyplot.axes().set_aspect('equal', 'datalim')\n",
    "pyplot.set_cmap(pyplot.gray())\n",
    "pyplot.pcolormesh(x, y, numpy.flipud(numpy.rot90(ArrayDicom[:, :, 80])))\n",
    "pyplot.show()"
   ]
  },
  {
   "cell_type": "code",
   "execution_count": null,
   "metadata": {},
   "outputs": [],
   "source": []
  },
  {
   "cell_type": "code",
   "execution_count": null,
   "metadata": {},
   "outputs": [],
   "source": []
  }
 ]
}