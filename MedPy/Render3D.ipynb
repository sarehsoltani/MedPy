{
 "metadata": {
  "language_info": {
   "codemirror_mode": {
    "name": "ipython",
    "version": 3
   },
   "file_extension": ".py",
   "mimetype": "text/x-python",
   "name": "python",
   "nbconvert_exporter": "python",
   "pygments_lexer": "ipython3",
   "version": 3
  },
  "orig_nbformat": 2,
  "kernelspec": {
   "name": "python_defaultSpec_1596137071065",
   "display_name": "Python 3.7.1 64-bit"
  }
 },
 "nbformat": 4,
 "nbformat_minor": 2,
 "cells": [
  {
   "cell_type": "code",
   "execution_count": 2,
   "metadata": {},
   "outputs": [],
   "source": [
    "import numpy as np\n",
    "import pydicom as dicom\n",
    "import os\n",
    "import matplotlib.pyplot as plt\n",
    "from glob import glob"
   ]
  },
  {
   "cell_type": "code",
   "execution_count": 3,
   "metadata": {},
   "outputs": [],
   "source": [
    "from mpl_toolkits.mplot3d.art3d import Poly3DCollection"
   ]
  },
  {
   "cell_type": "code",
   "execution_count": 5,
   "metadata": {},
   "outputs": [
    {
     "output_type": "display_data",
     "data": {
      "text/html": "        <script type=\"text/javascript\">\n        window.PlotlyConfig = {MathJaxConfig: 'local'};\n        if (window.MathJax) {MathJax.Hub.Config({SVG: {font: \"STIX-Web\"}});}\n        if (typeof require !== 'undefined') {\n        require.undef(\"plotly\");\n        requirejs.config({\n            paths: {\n                'plotly': ['https://cdn.plot.ly/plotly-latest.min']\n            }\n        });\n        require(['plotly'], function(Plotly) {\n            window._Plotly = Plotly;\n        });\n        }\n        </script>\n        "
     },
     "metadata": {}
    }
   ],
   "source": [
    "import scipy.ndimage\n",
    "from skimage import morphology\n",
    "from skimage import measure\n",
    "from skimage.transform import resize\n",
    "from sklearn.cluster import KMeans\n",
    "from plotly import __version__\n",
    "from plotly.offline import download_plotlyjs, init_notebook_mode, plot, iplot\n",
    "from plotly.tools import FigureFactory as FF\n",
    "from plotly.graph_objs import *\n",
    "init_notebook_mode(connected=True) "
   ]
  },
  {
   "cell_type": "code",
   "execution_count": 11,
   "metadata": {
    "tags": []
   },
   "outputs": [
    {
     "output_type": "stream",
     "name": "stdout",
     "text": "Total of 420 DICOM images. First 5 filenames:\n"
    }
   ],
   "source": [
    "data_path = 'F:/University/S0000001119/S0000001119/'\n",
    "output_path = working_path = 'F:/University/'\n",
    "g = glob(data_path + '/*.dcm')\n",
    "\n",
    "# Print out the first 5 file names to verify we're in the right folder.\n",
    "print ('Total of %d DICOM images. First 5 filenames:' % len(g))\n"
   ]
  },
  {
   "cell_type": "code",
   "execution_count": 17,
   "metadata": {},
   "outputs": [],
   "source": [
    "def load_scan(path):\n",
    "    slices = [dicom.read_file(path + '/' + s) for s in os.listdir(path)]\n",
    "    slices.sort(key = lambda x: int(x.InstanceNumber))\n",
    "    try:\n",
    "        slice_thickness = np.abs(slices[0].ImagePositionPatient[2] - slices[1].ImagePositionPatient[2])\n",
    "    except:\n",
    "        slice_thickness = np.abs(slices[0].SliceLocation - slices[1].SliceLocation)\n",
    "        \n",
    "    for s in slices:\n",
    "        s.SliceThickness = slice_thickness\n",
    "        \n",
    "    return slices\n"
   ]
  },
  {
   "cell_type": "code",
   "execution_count": 18,
   "metadata": {},
   "outputs": [
    {
     "output_type": "error",
     "ename": "SyntaxError",
     "evalue": "invalid syntax (<ipython-input-18-699426528549>, line 1)",
     "traceback": [
      "\u001b[1;36m  File \u001b[1;32m\"<ipython-input-18-699426528549>\"\u001b[1;36m, line \u001b[1;32m1\u001b[0m\n\u001b[1;33m    jupyter nbextension enable --py --sys-prefix itkwidgets\u001b[0m\n\u001b[1;37m                      ^\u001b[0m\n\u001b[1;31mSyntaxError\u001b[0m\u001b[1;31m:\u001b[0m invalid syntax\n"
     ]
    }
   ],
   "source": [
    "jupyter nbextension enable --py --sys-prefix itkwidgets"
   ]
  },
  {
   "cell_type": "code",
   "execution_count": 19,
   "metadata": {
    "tags": []
   },
   "outputs": [
    {
     "output_type": "stream",
     "name": "stdout",
     "text": "Requirement already satisfied: itkwidgets in c:\\python37\\lib\\site-packages (0.31.4)Note: you may need to restart the kernel to use updated packages.\nRequirement already satisfied: itk-core>=5.1.0.post2 in c:\\python37\\lib\\site-packages (from itkwidgets) (5.1.0.post3)\nRequirement already satisfied: colorcet>=2.0.0 in c:\\python37\\lib\\site-packages (from itkwidgets) (2.0.2)\nRequirement already satisfied: numpy in c:\\python37\\lib\\site-packages (from itkwidgets) (1.16.2)\nRequirement already satisfied: zstandard in c:\\python37\\lib\\site-packages (from itkwidgets) (0.14.0)\nRequirement already satisfied: itk-filtering>=5.1.0.post2 in c:\\python37\\lib\\site-packages (from itkwidgets) (5.1.0.post3)\nRequirement already satisfied: ipywidgets>=7.5.1 in c:\\python37\\lib\\site-packages (from itkwidgets) (7.5.1)\nRequirement already satisfied: matplotlib in c:\\python37\\lib\\site-packages (from itkwidgets) (3.2.2)\nRequirement already satisfied: itk-meshtopolydata>=0.6.2 in c:\\python37\\lib\\site-packages (from itkwidgets) (0.6.2)\nRequirement already satisfied: ipydatawidgets>=4.0.1 in c:\\python37\\lib\\site-packages (from itkwidgets) (4.0.1)\nRequirement already satisfied: ipympl>=0.4.1 in c:\\python37\\lib\\site-packages (from itkwidgets) (0.5.7)\nRequirement already satisfied: scipy in c:\\python37\\lib\\site-packages (from itkwidgets) (1.2.1)\nRequirement already satisfied: six in c:\\python37\\lib\\site-packages (from itkwidgets) (1.12.0)\nRequirement already satisfied: param>=1.7.0 in c:\\python37\\lib\\site-packages (from colorcet>=2.0.0->itkwidgets) (1.9.3)\nRequirement already satisfied: pyct>=0.4.4 in c:\\python37\\lib\\site-packages (from colorcet>=2.0.0->itkwidgets) (0.4.6)\nRequirement already satisfied: cffi>=1.11 in c:\\python37\\lib\\site-packages (from zstandard->itkwidgets) (1.14.1)\nRequirement already satisfied: itk-numerics==5.1.0.post3 in c:\\python37\\lib\\site-packages (from itk-filtering>=5.1.0.post2->itkwidgets) (5.1.0.post3)\nRequirement already satisfied: ipykernel>=4.5.1 in c:\\python37\\lib\\site-packages (from ipywidgets>=7.5.1->itkwidgets) (5.3.3)\nRequirement already satisfied: widgetsnbextension~=3.5.0 in c:\\python37\\lib\\site-packages (from ipywidgets>=7.5.1->itkwidgets) (3.5.1)\nRequirement already satisfied: ipython>=4.0.0; python_version >= \"3.3\" in c:\\python37\\lib\\site-packages (from ipywidgets>=7.5.1->itkwidgets) (7.16.1)\nRequirement already satisfied: nbformat>=4.2.0 in c:\\python37\\lib\\site-packages (from ipywidgets>=7.5.1->itkwidgets) (5.0.7)\nRequirement already satisfied: traitlets>=4.3.1 in c:\\python37\\lib\\site-packages (from ipywidgets>=7.5.1->itkwidgets) (4.3.3)\nRequirement already satisfied: kiwisolver>=1.0.1 in c:\\python37\\lib\\site-packages (from matplotlib->itkwidgets) (1.2.0)\nRequirement already satisfied: pyparsing!=2.0.4,!=2.1.2,!=2.1.6,>=2.0.1 in c:\\python37\\lib\\site-packages (from matplotlib->itkwidgets) (2.4.7)\nRequirement already satisfied: python-dateutil>=2.1 in c:\\python37\\lib\\site-packages (from matplotlib->itkwidgets) (2.8.1)\nRequirement already satisfied: cycler>=0.10 in c:\\python37\\lib\\site-packages (from matplotlib->itkwidgets) (0.10.0)\nRequirement already satisfied: traittypes>=0.2.0 in c:\\python37\\lib\\site-packages (from ipydatawidgets>=4.0.1->itkwidgets) (0.2.1)\nRequirement already satisfied: pycparser in c:\\python37\\lib\\site-packages (from cffi>=1.11->zstandard->itkwidgets) (2.20)\nRequirement already satisfied: jupyter-client in c:\\python37\\lib\\site-packages (from ipykernel>=4.5.1->ipywidgets>=7.5.1->itkwidgets) (6.1.6)\nRequirement already satisfied: tornado>=4.2 in c:\\python37\\lib\\site-packages (from ipykernel>=4.5.1->ipywidgets>=7.5.1->itkwidgets) (6.0.4)\nRequirement already satisfied: notebook>=4.4.1 in c:\\python37\\lib\\site-packages (from widgetsnbextension~=3.5.0->ipywidgets>=7.5.1->itkwidgets) (6.0.3)\nRequirement already satisfied: pickleshare in c:\\python37\\lib\\site-packages (from ipython>=4.0.0; python_version >= \"3.3\"->ipywidgets>=7.5.1->itkwidgets) (0.7.5)\nRequirement already satisfied: setuptools>=18.5 in c:\\python37\\lib\\site-packages (from ipython>=4.0.0; python_version >= \"3.3\"->ipywidgets>=7.5.1->itkwidgets) (39.0.1)\n\nRequirement already satisfied: colorama; sys_platform == \"win32\" in c:\\users\\sare\\appdata\\roaming\\python\\python37\\site-packages (from ipython>=4.0.0; python_version >= \"3.3\"->ipywidgets>=7.5.1->itkwidgets) (0.4.3)\nRequirement already satisfied: jedi>=0.10 in c:\\python37\\lib\\site-packages (from ipython>=4.0.0; python_version >= \"3.3\"->ipywidgets>=7.5.1->itkwidgets) (0.17.2)\nRequirement already satisfied: prompt-toolkit!=3.0.0,!=3.0.1,<3.1.0,>=2.0.0 in c:\\python37\\lib\\site-packages (from ipython>=4.0.0; python_version >= \"3.3\"->ipywidgets>=7.5.1->itkwidgets) (3.0.5)\nRequirement already satisfied: decorator in c:\\python37\\lib\\site-packages (from ipython>=4.0.0; python_version >= \"3.3\"->ipywidgets>=7.5.1->itkwidgets) (4.4.2)\nRequirement already satisfied: backcall in c:\\python37\\lib\\site-packages (from ipython>=4.0.0; python_version >= \"3.3\"->ipywidgets>=7.5.1->itkwidgets) (0.2.0)\nRequirement already satisfied: pygments in c:\\python37\\lib\\site-packages (from ipython>=4.0.0; python_version >= \"3.3\"->ipywidgets>=7.5.1->itkwidgets) (2.6.1)\nRequirement already satisfied: jsonschema!=2.5.0,>=2.4 in c:\\python37\\lib\\site-packages (from nbformat>=4.2.0->ipywidgets>=7.5.1->itkwidgets) (3.2.0)\nRequirement already satisfied: ipython-genutils in c:\\python37\\lib\\site-packages (from nbformat>=4.2.0->ipywidgets>=7.5.1->itkwidgets) (0.2.0)\nRequirement already satisfied: jupyter-core in c:\\python37\\lib\\site-packages (from nbformat>=4.2.0->ipywidgets>=7.5.1->itkwidgets) (4.6.3)\nRequirement already satisfied: pyzmq>=13 in c:\\python37\\lib\\site-packages (from jupyter-client->ipykernel>=4.5.1->ipywidgets>=7.5.1->itkwidgets) (19.0.1)\nRequirement already satisfied: terminado>=0.8.1 in c:\\python37\\lib\\site-packages (from notebook>=4.4.1->widgetsnbextension~=3.5.0->ipywidgets>=7.5.1->itkwidgets) (0.8.3)\nRequirement already satisfied: jinja2 in c:\\python37\\lib\\site-packages (from notebook>=4.4.1->widgetsnbextension~=3.5.0->ipywidgets>=7.5.1->itkwidgets) (2.11.2)\nRequirement already satisfied: Send2Trash in c:\\python37\\lib\\site-packages (from notebook>=4.4.1->widgetsnbextension~=3.5.0->ipywidgets>=7.5.1->itkwidgets) (1.5.0)\nRequirement already satisfied: nbconvert in c:\\python37\\lib\\site-packages (from notebook>=4.4.1->widgetsnbextension~=3.5.0->ipywidgets>=7.5.1->itkwidgets) (5.6.1)\nRequirement already satisfied: prometheus-client in c:\\python37\\lib\\site-packages (from notebook>=4.4.1->widgetsnbextension~=3.5.0->ipywidgets>=7.5.1->itkwidgets) (0.8.0)\nRequirement already satisfied: parso<0.8.0,>=0.7.0 in c:\\python37\\lib\\site-packages (from jedi>=0.10->ipython>=4.0.0; python_version >= \"3.3\"->ipywidgets>=7.5.1->itkwidgets) (0.7.0)\nRequirement already satisfied: wcwidth in c:\\python37\\lib\\site-packages (from prompt-toolkit!=3.0.0,!=3.0.1,<3.1.0,>=2.0.0->ipython>=4.0.0; python_version >= \"3.3\"->ipywidgets>=7.5.1->itkwidgets) (0.2.5)\nRequirement already satisfied: importlib-metadata; python_version < \"3.8\" in c:\\python37\\lib\\site-packages (from jsonschema!=2.5.0,>=2.4->nbformat>=4.2.0->ipywidgets>=7.5.1->itkwidgets) (1.7.0)\nRequirement already satisfied: pyrsistent>=0.14.0 in c:\\python37\\lib\\site-packages (from jsonschema!=2.5.0,>=2.4->nbformat>=4.2.0->ipywidgets>=7.5.1->itkwidgets) (0.16.0)\nRequirement already satisfied: attrs>=17.4.0 in c:\\python37\\lib\\site-packages (from jsonschema!=2.5.0,>=2.4->nbformat>=4.2.0->ipywidgets>=7.5.1->itkwidgets) (19.3.0)\nRequirement already satisfied: pywin32>=1.0; sys_platform == \"win32\" in c:\\python37\\lib\\site-packages (from jupyter-core->nbformat>=4.2.0->ipywidgets>=7.5.1->itkwidgets) (228)\nRequirement already satisfied: pywinpty>=0.5; os_name == \"nt\" in c:\\python37\\lib\\site-packages (from terminado>=0.8.1->notebook>=4.4.1->widgetsnbextension~=3.5.0->ipywidgets>=7.5.1->itkwidgets) (0.5.7)\nRequirement already satisfied: MarkupSafe>=0.23 in c:\\python37\\lib\\site-packages (from jinja2->notebook>=4.4.1->widgetsnbextension~=3.5.0->ipywidgets>=7.5.1->itkwidgets) (1.1.1)\nRequirement already satisfied: entrypoints>=0.2.2 in c:\\python37\\lib\\site-packages (from nbconvert->notebook>=4.4.1->widgetsnbextension~=3.5.0->ipywidgets>=7.5.1->itkwidgets) (0.3)\nRequirement already satisfied: testpath in c:\\python37\\lib\\site-packages (from nbconvert->notebook>=4.4.1->widgetsnbextension~=3.5.0->ipywidgets>=7.5.1->itkwidgets) (0.4.4)\nRequirement already satisfied: pandocfilters>=1.4.1 in c:\\python37\\lib\\site-packages (from nbconvert->notebook>=4.4.1->widgetsnbextension~=3.5.0->ipywidgets>=7.5.1->itkwidgets) (1.4.2)\nRequirement already satisfied: defusedxml in c:\\python37\\lib\\site-packages (from nbconvert->notebook>=4.4.1->widgetsnbextension~=3.5.0->ipywidgets>=7.5.1->itkwidgets) (0.6.0)\nRequirement already satisfied: bleach in c:\\python37\\lib\\site-packages (from nbconvert->notebook>=4.4.1->widgetsnbextension~=3.5.0->ipywidgets>=7.5.1->itkwidgets) (3.1.5)\nRequirement already satisfied: mistune<2,>=0.8.1 in c:\\python37\\lib\\site-packages (from nbconvert->notebook>=4.4.1->widgetsnbextension~=3.5.0->ipywidgets>=7.5.1->itkwidgets) (0.8.4)\nRequirement already satisfied: zipp>=0.5 in c:\\python37\\lib\\site-packages (from importlib-metadata; python_version < \"3.8\"->jsonschema!=2.5.0,>=2.4->nbformat>=4.2.0->ipywidgets>=7.5.1->itkwidgets) (3.1.0)\nRequirement already satisfied: packaging in c:\\python37\\lib\\site-packages (from bleach->nbconvert->notebook>=4.4.1->widgetsnbextension~=3.5.0->ipywidgets>=7.5.1->itkwidgets) (20.4)\nRequirement already satisfied: webencodings in c:\\python37\\lib\\site-packages (from bleach->nbconvert->notebook>=4.4.1->widgetsnbextension~=3.5.0->ipywidgets>=7.5.1->itkwidgets) (0.5.1)\n"
    }
   ],
   "source": [
    "pip install itkwidgets"
   ]
  },
  {
   "cell_type": "code",
   "execution_count": 20,
   "metadata": {},
   "outputs": [],
   "source": [
    "from itkwidgets import view"
   ]
  },
  {
   "cell_type": "code",
   "execution_count": 1,
   "metadata": {},
   "outputs": [
    {
     "output_type": "error",
     "ename": "NameError",
     "evalue": "name 'load_scan' is not defined",
     "traceback": [
      "\u001b[1;31m---------------------------------------------------------------------------\u001b[0m",
      "\u001b[1;31mNameError\u001b[0m                                 Traceback (most recent call last)",
      "\u001b[1;32m<ipython-input-1-3e2222e2e308>\u001b[0m in \u001b[0;36m<module>\u001b[1;34m\u001b[0m\n\u001b[0;32m     22\u001b[0m \u001b[1;33m\u001b[0m\u001b[0m\n\u001b[0;32m     23\u001b[0m \u001b[0mid\u001b[0m\u001b[1;33m=\u001b[0m\u001b[1;36m0\u001b[0m\u001b[1;33m\u001b[0m\u001b[1;33m\u001b[0m\u001b[0m\n\u001b[1;32m---> 24\u001b[1;33m \u001b[0mpatient\u001b[0m \u001b[1;33m=\u001b[0m \u001b[0mload_scan\u001b[0m\u001b[1;33m(\u001b[0m\u001b[0mdata_path\u001b[0m\u001b[1;33m)\u001b[0m\u001b[1;33m\u001b[0m\u001b[1;33m\u001b[0m\u001b[0m\n\u001b[0m\u001b[0;32m     25\u001b[0m \u001b[0mimgs\u001b[0m \u001b[1;33m=\u001b[0m \u001b[0mget_pixels_hu\u001b[0m\u001b[1;33m(\u001b[0m\u001b[0mpatient\u001b[0m\u001b[1;33m)\u001b[0m\u001b[1;33m\u001b[0m\u001b[1;33m\u001b[0m\u001b[0m\n",
      "\u001b[1;31mNameError\u001b[0m: name 'load_scan' is not defined"
     ]
    }
   ],
   "source": [
    "def get_pixels_hu(scans):\n",
    "    image = np.stack([s.pixel_array for s in scans])\n",
    "    # Convert to int16 (from sometimes int16), \n",
    "    # should be possible as values should always be low enough (<32k)\n",
    "    image = image.astype(np.int16)\n",
    "\n",
    "    # Set outside-of-scan pixels to 1\n",
    "    # The intercept is usually -1024, so air is approximately 0\n",
    "    image[image == -2000] = 0\n",
    "    \n",
    "    # Convert to Hounsfield units (HU)\n",
    "    intercept = scans[0].RescaleIntercept\n",
    "    slope = scans[0].RescaleSlope\n",
    "    \n",
    "    if slope != 1:\n",
    "        image = slope * image.astype(np.float64)\n",
    "        image = image.astype(np.int16)\n",
    "        \n",
    "    image += np.int16(intercept)\n",
    "    \n",
    "    return np.array(image, dtype=np.int16)\n",
    "\n",
    "id=0\n",
    "patient = load_scan(data_path)\n",
    "imgs = get_pixels_hu(patient)"
   ]
  },
  {
   "cell_type": "code",
   "execution_count": null,
   "metadata": {},
   "outputs": [],
   "source": []
  }
 ]
}